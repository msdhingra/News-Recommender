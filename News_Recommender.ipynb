{
 "cells": [
  {
   "cell_type": "raw",
   "metadata": {},
   "source": [
    "#N means no need to run that block,as it would take lot of time, so I've already saved the results in pickle files.  "
   ]
  },
  {
   "cell_type": "markdown",
   "metadata": {},
   "source": [
    "# Importing libraries"
   ]
  },
  {
   "cell_type": "code",
   "execution_count": 22,
   "metadata": {},
   "outputs": [],
   "source": [
    "#R\n",
    "import pandas as pd\n",
    "import numpy as np\n",
    "import matplotlib.pyplot as plt\n",
    "import seaborn as sns \n",
    "%matplotlib inline\n",
    "import gensim\n",
    "import pickle\n",
    "import random\n",
    "import itertools\n",
    "import warnings\n",
    "warnings.filterwarnings('ignore')"
   ]
  },
  {
   "cell_type": "code",
   "execution_count": 23,
   "metadata": {},
   "outputs": [],
   "source": [
    "#R\n",
    "from nltk.tokenize import word_tokenize\n",
    "from nltk.corpus import stopwords\n",
    "from nltk.stem import WordNetLemmatizer\n",
    "from nltk import pos_tag\n",
    "from sklearn.feature_extraction.text import TfidfVectorizer\n",
    "from nltk.cluster import KMeansClusterer, cosine_distance\n",
    "from sklearn.metrics.pairwise import cosine_similarity"
   ]
  },
  {
   "cell_type": "markdown",
   "metadata": {},
   "source": [
    "# Load data"
   ]
  },
  {
   "cell_type": "code",
   "execution_count": 24,
   "metadata": {},
   "outputs": [],
   "source": [
    "#R\n",
    "data=pd.read_csv('news_articles.csv')['Content']"
   ]
  },
  {
   "cell_type": "code",
   "execution_count": 25,
   "metadata": {},
   "outputs": [
    {
     "data": {
      "text/plain": [
       "(0    At least 14 people died and 17 others were inj...\n",
       " 1    TV actress Pratibha Tiwari  who is best known ...\n",
       " 2    The United States and South Korea began a join...\n",
       " 3    The relentless drive by Bengaluru s  Bangalore...\n",
       " 4    Punjab Gau Raksha Dal chief Satish Kumar and h...\n",
       " Name: Content, dtype: object, 4831)"
      ]
     },
     "execution_count": 25,
     "metadata": {},
     "output_type": "execute_result"
    }
   ],
   "source": [
    "#R\n",
    "data.head(),len(data)"
   ]
  },
  {
   "cell_type": "markdown",
   "metadata": {},
   "source": [
    "# Data cleaning :"
   ]
  },
  {
   "cell_type": "markdown",
   "metadata": {},
   "source": [
    "# 1.remove numbers:"
   ]
  },
  {
   "cell_type": "code",
   "execution_count": 7,
   "metadata": {},
   "outputs": [],
   "source": [
    "#N\n",
    "#removing all the ignored 9282 numbers from corpus\n",
    "# ignored means those which are not identified by our gensim w2v model \n",
    "ignored_numbers=pickle.load(open('ignored_numbers.pkl', 'rb'))\n",
    "for i in range(len(data)):\n",
    "    query = data[i].split()\n",
    "    resultwords  = [word for word in query if word not in ignored_numbers]\n",
    "    data[i] = ' '.join(resultwords)"
   ]
  },
  {
   "cell_type": "markdown",
   "metadata": {},
   "source": [
    "# 2.nlp operations:"
   ]
  },
  {
   "cell_type": "code",
   "execution_count": 238,
   "metadata": {},
   "outputs": [],
   "source": [
    "#N\n",
    "cleaned_data=[]\n",
    "tagged_data=[]\n",
    "for doc in data:\n",
    "    tokens = word_tokenize(doc.lower())\n",
    "\n",
    "    # remove stop words\n",
    "    stop_words = set(stopwords.words('english'))\n",
    "    words = [w for w in tokens if not w in stop_words]\n",
    "    #lemmatisation\n",
    "    lemmatiser = WordNetLemmatizer()\n",
    "    for tok in words:\n",
    "        tok=lemmatiser.lemmatize(tok)\n",
    "    cleaned_data.append(words)\n",
    "    #pos tagging\n",
    "    pos=pos_tag(words)\n",
    "    tagged_data.append(pos)"
   ]
  },
  {
   "cell_type": "code",
   "execution_count": 103,
   "metadata": {},
   "outputs": [],
   "source": [
    "#N\n",
    "#store cleaned files\n",
    "with open('cleaned_data.pkl', 'wb') as f:\n",
    "    pickle.dump(cleaned_data,f)\n",
    "with open('tagged_data.pkl', 'wb') as f:\n",
    "    pickle.dump(tagged_data,f)    "
   ]
  },
  {
   "cell_type": "code",
   "execution_count": 26,
   "metadata": {},
   "outputs": [],
   "source": [
    "#R\n",
    "#load files\n",
    "cleaned_data=pickle.load(open('cleaned_data.pkl','rb'))"
   ]
  },
  {
   "cell_type": "markdown",
   "metadata": {},
   "source": [
    "# tfidf function"
   ]
  },
  {
   "cell_type": "code",
   "execution_count": 27,
   "metadata": {},
   "outputs": [],
   "source": [
    "#R\n",
    "vectorizer=TfidfVectorizer()\n",
    "def tfidf_scores(d):\n",
    "    tfidf=vectorizer.fit_transform(d)\n",
    "    return tfidf"
   ]
  },
  {
   "cell_type": "code",
   "execution_count": 28,
   "metadata": {},
   "outputs": [],
   "source": [
    "#R\n",
    "n_data=[]\n",
    "for i in cleaned_data:\n",
    "    n_data.append(' '.join(i))\n",
    "new_data=pd.Series(n_data)    \n",
    "scores=tfidf_scores(n_data)"
   ]
  },
  {
   "cell_type": "markdown",
   "metadata": {},
   "source": [
    "# Topic modelling"
   ]
  },
  {
   "cell_type": "code",
   "execution_count": 48,
   "metadata": {},
   "outputs": [],
   "source": [
    "#N\n",
    "en_model = gensim.models.KeyedVectors.load_word2vec_format('../wiki.en.vec')"
   ]
  },
  {
   "cell_type": "code",
   "execution_count": 240,
   "metadata": {},
   "outputs": [],
   "source": [
    "#N\n",
    "t_vocab=list(vectorizer.vocabulary_.keys())\n",
    "dim=300\n",
    "en_ignored=[]\n",
    "en_w2vectors=np.ones((1,dim))\n",
    "for i in t_vocab:\n",
    "    if i in en_model:     \n",
    "        en_w2vectors=np.concatenate((en_w2vectors,en_model[i].reshape(1,-1)),axis=0)\n",
    "    else:\n",
    "        en_ignored.append(i)\n",
    "        en_w2vectors=np.concatenate((en_w2vectors,np.zeros((1,dim))),axis=0)"
   ]
  },
  {
   "cell_type": "code",
   "execution_count": 11,
   "metadata": {},
   "outputs": [],
   "source": [
    "#N\n",
    "w2v=en_w2vectors[1:,:]\n",
    "pickle.dump(w2v,open('w2v.pickle','wb'))"
   ]
  },
  {
   "cell_type": "code",
   "execution_count": 243,
   "metadata": {},
   "outputs": [],
   "source": [
    "#N\n",
    "d2v=scores*w2v"
   ]
  },
  {
   "cell_type": "code",
   "execution_count": 244,
   "metadata": {},
   "outputs": [],
   "source": [
    "#N\n",
    "pickle.dump(d2v,open('d2v.pickle','wb'))"
   ]
  },
  {
   "cell_type": "markdown",
   "metadata": {},
   "source": [
    "# clustering articles"
   ]
  },
  {
   "cell_type": "code",
   "execution_count": 29,
   "metadata": {},
   "outputs": [],
   "source": [
    "#R\n",
    "d2v=pickle.load(open('d2v.pickle','rb'))"
   ]
  },
  {
   "cell_type": "code",
   "execution_count": 25,
   "metadata": {},
   "outputs": [],
   "source": [
    "#N\n",
    "num_clt=10\n",
    "\n",
    "kclusterer = KMeansClusterer(num_clt, distance=cosine_distance, repeats=25)\n",
    "assigned_clusters = kclusterer.cluster(d2v, assign_clusters=True)"
   ]
  },
  {
   "cell_type": "code",
   "execution_count": 26,
   "metadata": {},
   "outputs": [],
   "source": [
    "#N\n",
    "clt_articles={}\n",
    "for i in range(10):\n",
    "    clt_articles[i]=np.where(np.array(assigned_clusters)==i) "
   ]
  },
  {
   "cell_type": "code",
   "execution_count": 27,
   "metadata": {},
   "outputs": [],
   "source": [
    "#N\n",
    "pickle.dump(clt_articles,open('cluster.pickle','wb'))\n"
   ]
  },
  {
   "cell_type": "markdown",
   "metadata": {},
   "source": [
    "# data generation"
   ]
  },
  {
   "cell_type": "code",
   "execution_count": 30,
   "metadata": {},
   "outputs": [],
   "source": [
    "#R\n",
    "# avg. reading speed (200 wpm,source: INTERNET)\n",
    "speed=200"
   ]
  },
  {
   "cell_type": "code",
   "execution_count": 31,
   "metadata": {},
   "outputs": [],
   "source": [
    "#R\n",
    "l=[]\n",
    "for i in data:\n",
    "    l.append(np.array(i.split()).shape[0])\n",
    "#avg. length of doc (no. of words)\n",
    "avg_length=np.average(l)"
   ]
  },
  {
   "cell_type": "code",
   "execution_count": 32,
   "metadata": {},
   "outputs": [
    {
     "data": {
      "text/plain": [
       "80.391989236182994"
      ]
     },
     "execution_count": 32,
     "metadata": {},
     "output_type": "execute_result"
    }
   ],
   "source": [
    "#R\n",
    "avg_time =avg_length/speed\n",
    "avg_time*60 #in seconds "
   ]
  },
  {
   "cell_type": "code",
   "execution_count": 33,
   "metadata": {},
   "outputs": [],
   "source": [
    "#R\n",
    "clt_articles=pickle.load(open('cluster.pickle','rb'))\n",
    "\n",
    "def generate_data(aid):\n",
    "    #Generate clickstream data \n",
    "    click_stream=np.random.binomial(1,0.75,500)\n",
    "    \n",
    "    # Generate time sample from three gaussian distributions\n",
    "    time = np.random.normal(5,0.5,60)      # just opened and closed\n",
    "    time = np.append(time, np.random.normal(30,10,160))  # read half/some part   \n",
    "    time = np.append(time, np.random.normal(80,10,270))   # read completely\n",
    "    time = np.append(time, np.random.normal(200,10,10))  # app left apened etc.\n",
    "    #generate 10 values for time\n",
    "    new_time=time.reshape(-1,1)*click_stream.reshape(-1,1)  \n",
    "    read_time=random.sample(list(new_time.ravel()),10)\n",
    "    click=np.ones((len(read_time),1))\n",
    "    for i in range(len(read_time)):\n",
    "        if read_time[i]==0:\n",
    "            click[i]=0\n",
    "    \n",
    "    #generating 10 random articles from corpus\n",
    "    if len(aid)==0:\n",
    "        aid=[]\n",
    "        for i in range(10):\n",
    "            aid.append(random.sample(list(itertools.chain.from_iterable(clt_articles[i])),1)[0])  \n",
    "    \n",
    "    #sort aid based on time        \n",
    "    read_time=np.array(read_time)\n",
    "    n_liked=len(set(read_time[read_time>50]).intersection(set(read_time[read_time<150])))\n",
    "    sorted_=[x for _,x in sorted(zip(read_time,aid),reverse=True)]\n",
    "    liked_=[x for _,x in sorted(zip(read_time,aid),reverse=True)][:n_liked]\n",
    "    \n",
    "    #calculating a_rnk and liked articles\n",
    "    rnk={}\n",
    "    for j in range(len(sorted_)):\n",
    "        rnk[sorted_[j]]=j+1    \n",
    "    a_rnk=[]\n",
    "    liked=np.zeros((10,1))\n",
    "    for k in range(len(aid)):\n",
    "        a_rnk.append(rnk[aid[k]])\n",
    "        if aid[k] in liked_:\n",
    "            liked[k]=1\n",
    "    \n",
    "    \n",
    "    return aid,read_time,click,a_rnk,liked\n"
   ]
  },
  {
   "cell_type": "code",
   "execution_count": 34,
   "metadata": {},
   "outputs": [],
   "source": [
    "#R\n",
    "class user():\n",
    "    id_generator = itertools.count(1)\n",
    "    def __init__(self,name,article):\n",
    "        self.name=name\n",
    "        self.id =next(self.id_generator)\n",
    "        #self.sid=session\n",
    "        self.aid,self.time,self.click,self.a_rnk,self.liked=generate_data(article)\n",
    "    "
   ]
  },
  {
   "cell_type": "code",
   "execution_count": 35,
   "metadata": {},
   "outputs": [],
   "source": [
    "#R\n",
    "def user_data(session_id,articles):\n",
    "    \n",
    "    if len(articles)!=0:\n",
    "        user1=user('u1',articles[0])\n",
    "        user2=user('u2',articles[1])\n",
    "        user3=user('u3',articles[2])\n",
    "        user4=user('u4',articles[3])\n",
    "        user5=user('u5',articles[4])\n",
    "    else:\n",
    "        user1=user('u1',[])\n",
    "        user2=user('u2',[])\n",
    "        user3=user('u3',[])\n",
    "        user4=user('u4',[])\n",
    "        user5=user('u5',[])\n",
    "\n",
    "    #creating a dataframe for user profiling\n",
    "    up=pd.DataFrame()\n",
    "    uid=[]\n",
    "    aid=[]\n",
    "    time=[]\n",
    "    click=[]\n",
    "    a_rnk=[]\n",
    "    liked=[]\n",
    "    \n",
    "    user_names=[user1,user2,user3,user4,user5]    \n",
    "    \n",
    "    for s in range(session_id):\n",
    "        if s==0:\n",
    "            for names in user_names:\n",
    "                uid.append([names.id]*10)\n",
    "                aid.append(names.aid)\n",
    "                time.append(names.time)\n",
    "                click.append(names.click)\n",
    "                a_rnk.append(names.a_rnk)\n",
    "                liked.append(names.liked)\n",
    "                \n",
    "        else:    \n",
    "            for n,names in enumerate(user_names): \n",
    "                aid_,time_,click_,a_rnk_,liked_=generate_data([])\n",
    "                uid.append([names.id]*10)\n",
    "                aid.append(aid_)\n",
    "                time.append(time_)\n",
    "                click.append(click_)\n",
    "                a_rnk.append(a_rnk_)\n",
    "                liked.append(liked_)\n",
    "            \n",
    "    up['uid']=np.array(uid).ravel()\n",
    "    up['sid']=np.sort(list(range(1,session_id+1))*50)\n",
    "    up['aid']=np.array(aid).reshape(-1,1)\n",
    "    up['time']=np.array(time).reshape(-1,1)\n",
    "    up['click']=np.array(click).reshape(-1,1)\n",
    "    up['a_rnk']=np.array(a_rnk).reshape(-1,1)\n",
    "    up['liked']=np.array(liked).reshape(-1,1)\n",
    "\n",
    "    return up"
   ]
  },
  {
   "cell_type": "code",
   "execution_count": 133,
   "metadata": {},
   "outputs": [],
   "source": [
    "#N\n",
    "dummy_data=user_data(4,[])\n",
    "pickle.dump(dummy_data,open('user_data.pickle','wb'))"
   ]
  },
  {
   "cell_type": "code",
   "execution_count": 36,
   "metadata": {},
   "outputs": [],
   "source": [
    "#R\n",
    "# similarity function\n",
    "def similar(d2v,liked,n):\n",
    "    cos_sim=cosine_similarity(d2v,liked)\n",
    "    return cos_sim.ravel().argsort()[-(n+1):-1][::-1]"
   ]
  },
  {
   "cell_type": "code",
   "execution_count": 37,
   "metadata": {},
   "outputs": [],
   "source": [
    "#R\n",
    "d2v=pickle.load(open('d2v.pickle','rb'))\n",
    "data=pickle.load(open('user_data.pickle','rb'))\n",
    "mean_time=data.groupby('aid').mean()['time']"
   ]
  },
  {
   "cell_type": "markdown",
   "metadata": {},
   "source": [
    "# User data has 7 fields:\n",
    "### 1.uid: user id.\n",
    "### 2.sid: session id.\n",
    "### 3.aid: id of article given to user. \n",
    "### 4.time: time spent by user on that article.\n",
    "### 5.click: whether user read that article(yes or no).\n",
    "### 6.a_rnk: rank of article amongst all the articles given to user(acc. to liking).\n",
    "### 7.liked: whether user liked that article.\n"
   ]
  },
  {
   "cell_type": "code",
   "execution_count": 38,
   "metadata": {},
   "outputs": [
    {
     "data": {
      "text/html": [
       "<div>\n",
       "<style scoped>\n",
       "    .dataframe tbody tr th:only-of-type {\n",
       "        vertical-align: middle;\n",
       "    }\n",
       "\n",
       "    .dataframe tbody tr th {\n",
       "        vertical-align: top;\n",
       "    }\n",
       "\n",
       "    .dataframe thead th {\n",
       "        text-align: right;\n",
       "    }\n",
       "</style>\n",
       "<table border=\"1\" class=\"dataframe\">\n",
       "  <thead>\n",
       "    <tr style=\"text-align: right;\">\n",
       "      <th></th>\n",
       "      <th>uid</th>\n",
       "      <th>sid</th>\n",
       "      <th>aid</th>\n",
       "      <th>time</th>\n",
       "      <th>click</th>\n",
       "      <th>a_rnk</th>\n",
       "      <th>liked</th>\n",
       "    </tr>\n",
       "  </thead>\n",
       "  <tbody>\n",
       "    <tr>\n",
       "      <th>0</th>\n",
       "      <td>1</td>\n",
       "      <td>1</td>\n",
       "      <td>228</td>\n",
       "      <td>5.563829</td>\n",
       "      <td>1.0</td>\n",
       "      <td>6</td>\n",
       "      <td>0.0</td>\n",
       "    </tr>\n",
       "    <tr>\n",
       "      <th>1</th>\n",
       "      <td>1</td>\n",
       "      <td>1</td>\n",
       "      <td>256</td>\n",
       "      <td>68.773441</td>\n",
       "      <td>1.0</td>\n",
       "      <td>2</td>\n",
       "      <td>1.0</td>\n",
       "    </tr>\n",
       "    <tr>\n",
       "      <th>2</th>\n",
       "      <td>1</td>\n",
       "      <td>1</td>\n",
       "      <td>606</td>\n",
       "      <td>0.000000</td>\n",
       "      <td>0.0</td>\n",
       "      <td>9</td>\n",
       "      <td>0.0</td>\n",
       "    </tr>\n",
       "    <tr>\n",
       "      <th>3</th>\n",
       "      <td>1</td>\n",
       "      <td>1</td>\n",
       "      <td>4633</td>\n",
       "      <td>52.278529</td>\n",
       "      <td>1.0</td>\n",
       "      <td>3</td>\n",
       "      <td>1.0</td>\n",
       "    </tr>\n",
       "    <tr>\n",
       "      <th>4</th>\n",
       "      <td>1</td>\n",
       "      <td>1</td>\n",
       "      <td>1326</td>\n",
       "      <td>96.003458</td>\n",
       "      <td>1.0</td>\n",
       "      <td>1</td>\n",
       "      <td>1.0</td>\n",
       "    </tr>\n",
       "  </tbody>\n",
       "</table>\n",
       "</div>"
      ],
      "text/plain": [
       "   uid  sid   aid       time  click  a_rnk  liked\n",
       "0    1    1   228   5.563829    1.0      6    0.0\n",
       "1    1    1   256  68.773441    1.0      2    1.0\n",
       "2    1    1   606   0.000000    0.0      9    0.0\n",
       "3    1    1  4633  52.278529    1.0      3    1.0\n",
       "4    1    1  1326  96.003458    1.0      1    1.0"
      ]
     },
     "execution_count": 38,
     "metadata": {},
     "output_type": "execute_result"
    }
   ],
   "source": [
    "#R\n",
    "data.head()"
   ]
  },
  {
   "cell_type": "markdown",
   "metadata": {},
   "source": [
    "# Recommender function"
   ]
  },
  {
   "cell_type": "code",
   "execution_count": 39,
   "metadata": {},
   "outputs": [],
   "source": [
    "#R\n",
    "def new(data,d2v):\n",
    "    \n",
    "    #average vector of every user /user profile\n",
    "    profile=[]\n",
    "    for j in range(5):\n",
    "        temp=[]\n",
    "        for i in data.loc[(data['uid'] ==j+1) & data['liked']==1]['aid'] :    \n",
    "            weight=int((data[data['aid']==i]['time']/mean_time[i]).values[0])\n",
    "            temp.append(d2v[i]*weight)  \n",
    "        profile.append(np.mean(temp,axis=0)) \n",
    "\n",
    "    #based on all users (2)\n",
    "    all_avg=np.mean(profile,axis=0)  #average vector from all users\n",
    "    trending=similar(d2v,all_avg.reshape(1,-1),2)\n",
    "    \n",
    "\n",
    "    #based on user's history (6)\n",
    "    history=[]\n",
    "    for vector in profile:\n",
    "        history.append(similar(d2v,vector.reshape(1,-1),6))\n",
    "    \n",
    "\n",
    "    #based on similar users (2)\n",
    "    sim_users=np.ones((5,5))\n",
    "    for i in range(len(profile)):\n",
    "        for j in range(len(profile)):\n",
    "            sim_users[i][j]=cosine_similarity(profile[i].reshape(1,-1),profile[j].reshape(1,-1))\n",
    "    sim_users=sim_users.argsort()[:,-3:-1] \n",
    "    #print(sim_users)\n",
    "\n",
    "    #articles based on similar users \n",
    "    sim_art=[]\n",
    "    for i,j in sim_users:\n",
    "        temp=[]\n",
    "        temp.append(profile[i])\n",
    "        temp.append(profile[j])\n",
    "        sim_art.append(similar(d2v,np.mean(np.array(temp),axis=0).reshape(1,-1),2))\n",
    "    #return history,sim_art,trending\n",
    "    new_aid=[]\n",
    "    for i in range(5):\n",
    "        temp=[]\n",
    "        temp.extend(history[i])\n",
    "        temp.extend(sim_art[i])\n",
    "        temp.extend(trending)\n",
    "\n",
    "        new_aid.append(temp)\n",
    "\n",
    "    return new_aid"
   ]
  },
  {
   "cell_type": "code",
   "execution_count": 40,
   "metadata": {},
   "outputs": [],
   "source": [
    "new_articles=new(data,d2v)"
   ]
  },
  {
   "cell_type": "code",
   "execution_count": 41,
   "metadata": {},
   "outputs": [],
   "source": [
    "def show_new(new_articles):\n",
    "    d=pd.DataFrame(columns=['uid','sid','aid','time','click','a_rnk','liked'])\n",
    "    uid=[]\n",
    "    sid=[]\n",
    "    aid=[]\n",
    "    time=[]\n",
    "    click=[]\n",
    "    a_rnk=[]\n",
    "    liked=[]\n",
    "    for n in range(5):\n",
    "        uid.append([n+1]*10)\n",
    "        sid.append([6]*10)\n",
    "        aid.append(new_articles[n])\n",
    "        time.append(['-']*10)\n",
    "        click.append(['-']*10)\n",
    "        a_rnk.append(list(range(1,11)))\n",
    "        liked.append(['-']*10)\n",
    "    d['uid']=np.array(uid).ravel()\n",
    "    d['sid']=np.array(sid).ravel()\n",
    "    d['aid']=np.array(aid).ravel()\n",
    "    d['time']=np.array(time).ravel()\n",
    "    d['click']=np.array(click).ravel()\n",
    "    d['a_rnk']=np.array(a_rnk).ravel()\n",
    "    d['liked']=np.array(liked).ravel()\n",
    "    return d"
   ]
  },
  {
   "cell_type": "markdown",
   "metadata": {},
   "source": [
    "# 5 articles recommended to user 1 for next session"
   ]
  },
  {
   "cell_type": "code",
   "execution_count": 42,
   "metadata": {},
   "outputs": [
    {
     "data": {
      "text/html": [
       "<div>\n",
       "<style scoped>\n",
       "    .dataframe tbody tr th:only-of-type {\n",
       "        vertical-align: middle;\n",
       "    }\n",
       "\n",
       "    .dataframe tbody tr th {\n",
       "        vertical-align: top;\n",
       "    }\n",
       "\n",
       "    .dataframe thead th {\n",
       "        text-align: right;\n",
       "    }\n",
       "</style>\n",
       "<table border=\"1\" class=\"dataframe\">\n",
       "  <thead>\n",
       "    <tr style=\"text-align: right;\">\n",
       "      <th></th>\n",
       "      <th>uid</th>\n",
       "      <th>sid</th>\n",
       "      <th>aid</th>\n",
       "      <th>time</th>\n",
       "      <th>click</th>\n",
       "      <th>a_rnk</th>\n",
       "      <th>liked</th>\n",
       "    </tr>\n",
       "  </thead>\n",
       "  <tbody>\n",
       "    <tr>\n",
       "      <th>0</th>\n",
       "      <td>1</td>\n",
       "      <td>6</td>\n",
       "      <td>1474</td>\n",
       "      <td>-</td>\n",
       "      <td>-</td>\n",
       "      <td>1</td>\n",
       "      <td>-</td>\n",
       "    </tr>\n",
       "    <tr>\n",
       "      <th>1</th>\n",
       "      <td>1</td>\n",
       "      <td>6</td>\n",
       "      <td>898</td>\n",
       "      <td>-</td>\n",
       "      <td>-</td>\n",
       "      <td>2</td>\n",
       "      <td>-</td>\n",
       "    </tr>\n",
       "    <tr>\n",
       "      <th>2</th>\n",
       "      <td>1</td>\n",
       "      <td>6</td>\n",
       "      <td>1456</td>\n",
       "      <td>-</td>\n",
       "      <td>-</td>\n",
       "      <td>3</td>\n",
       "      <td>-</td>\n",
       "    </tr>\n",
       "    <tr>\n",
       "      <th>3</th>\n",
       "      <td>1</td>\n",
       "      <td>6</td>\n",
       "      <td>1008</td>\n",
       "      <td>-</td>\n",
       "      <td>-</td>\n",
       "      <td>4</td>\n",
       "      <td>-</td>\n",
       "    </tr>\n",
       "    <tr>\n",
       "      <th>4</th>\n",
       "      <td>1</td>\n",
       "      <td>6</td>\n",
       "      <td>4822</td>\n",
       "      <td>-</td>\n",
       "      <td>-</td>\n",
       "      <td>5</td>\n",
       "      <td>-</td>\n",
       "    </tr>\n",
       "  </tbody>\n",
       "</table>\n",
       "</div>"
      ],
      "text/plain": [
       "   uid  sid   aid time click  a_rnk liked\n",
       "0    1    6  1474    -     -      1     -\n",
       "1    1    6   898    -     -      2     -\n",
       "2    1    6  1456    -     -      3     -\n",
       "3    1    6  1008    -     -      4     -\n",
       "4    1    6  4822    -     -      5     -"
      ]
     },
     "execution_count": 42,
     "metadata": {},
     "output_type": "execute_result"
    }
   ],
   "source": [
    "show_new(new_articles).head()"
   ]
  },
  {
   "cell_type": "code",
   "execution_count": 43,
   "metadata": {},
   "outputs": [],
   "source": [
    "d_articles=pd.read_csv('news_articles.csv')['Content']"
   ]
  },
  {
   "cell_type": "markdown",
   "metadata": {},
   "source": [
    "# Let's test our recommender bot"
   ]
  },
  {
   "cell_type": "markdown",
   "metadata": {},
   "source": [
    "## Following article was liked by user 1:"
   ]
  },
  {
   "cell_type": "code",
   "execution_count": 44,
   "metadata": {},
   "outputs": [
    {
     "data": {
      "text/plain": [
       "'Apple s pressure-sensitive 3D Touch integration in the iPhone 6s series could be seen in a wide range of smartphones this year  While rumours have pointed towards a possibility of a 3D Touch-like feature in Google s upcoming Android N OS  HTC is reportedly planning to include a 3D Touch display in the next Nexus smartphone \\r\\nAccording to GizmoChina  an industry insider confirmed pressure-sensitive displays will be seen in more and more devices as companies like Xiaomi  Meizu  Oppo and Vivo are already developing the tech  Almost all major Chinese tech companies are expected to follow the trend  and rumours already suggest Meizu s upcoming MX6 flagship will be one of the devices to demonstrate the new display technology in the next few months \\r\\n\\r\\n\\r\\nIn the current market  Apple isn t the only one to feature 3D Touch displays  A handful of companies has already demonstrated similar capabilities  Gionee S8  launched at MWC 2016  features 3D Touch technology and Huawei introduced pressure-sensitive smartphone displays with the Mate S at IFA 2015  which was before Apple iPhone 6s  launch \\r\\nGoogle s Android N OS is expected to be the major gig at the I O 2016 conference  from May 18 to 20  Registrations for the conference begin March 8  At the event  the world s largest Internet search company might also launch the Google Glass 2 0 virtual reality head-gear and make key announcements related to Project Tango \\r\\nRumours about Android N are slim right now  but the Marshmallow-successor might include split-screen UI support and a redesigned settings menu  among other upgrades  As the tradition goes  Android N will be first seen in the new Nexus smartphones to be launched this year \\r\\nHTC is expected to launch two Nexus phones with 5 and 5 5-inch displays  while LG has stepped out of the Nexus association this year '"
      ]
     },
     "execution_count": 44,
     "metadata": {},
     "output_type": "execute_result"
    }
   ],
   "source": [
    "d_articles[1326]"
   ]
  },
  {
   "cell_type": "markdown",
   "metadata": {},
   "source": [
    "## Based on that, following are recommended:"
   ]
  },
  {
   "cell_type": "code",
   "execution_count": 45,
   "metadata": {},
   "outputs": [
    {
     "data": {
      "text/plain": [
       "'When Samsung released their Note series by bringing in the phablet devices  every big smartphone manufacturer including Apple and HTC preferred to stick to smaller devices \\r\\nSurprisingly  years later  all of them silently started following this big screen design language with their own signature terms  Samsung combined a big impressive screen with Wacom precision input through a stylus  which became outdated by the time first Galaxy Note device arrived  Samsung truly showed how a stylus can seriously improve your smartphone usage by mixing some creative pinch of fun into it \\r\\n\\r\\n\\r\\nSamsung Galaxy Note 4  the 4th generation of Note devices arrived with an array of hardware and software features  which can be criticised  but tough to ignore  Anyways  once the Note 4 debuted in the country we decided to start using it extensively for some time  before passing any judgment  Rather than writing a very conventional review with traditional sections  we have tried to make it interactive by discussing the key features of Galaxy Note 4 along with its pros and cons  And here s it \\r\\nDesign\\r\\nAt a glance  the Galaxy Note 4 looks much like its predecessor Galaxy Note 3 with glass front  metal bezel and detachable fake leather interchangeable backplate with a few impressive changes  The latest Note features slightly rounded edges  which made it the most comfortable phablet to hold in hand \\r\\nMeasured at 154x79x8 5mm  the Galaxy Note 4 is slightly thicker than iPhone 6  1 4mm  and thinner than Google Nexus 6  1 6mm  and weighs 176g  4g more than iPhone 6 but 8g less than Nexus 6  \\r\\nWe are not claiming that Galaxy Note 4 s design is a deal-breaker  but Samsung has chosen a perfectly practical design with a robust built quality  We ve dropped the Note 4 quite a few times and impressively the device withstood each time without making any wear or tear sign on the phones body \\r\\nScreen\\r\\nThe biggest USP of Galaxy Note 4 is its grand 2K display  Samsung has packed in a 5 7-inch Super AMOLED display panel with a whopping resolution of 2 560x1 440 pixels  which is identical to Nexus 6 s 5 96-inch display  but Note 4 beats it with the pixel density measurement of 515 PPI \\r\\nThe good thing about Galaxy Note 4 s display has come out of its previous oversaturated colours and it s the best display to date for the experience it provides  Icons and texts appear sharp with the level of crispiness you can imagine  The display also makes reading through web pages  documents and even books on screen for its rich and vibrant output \\r\\nWith the AMOLED technology  the display can produce decent level of blacks  hence each colours stand out differently on the screen  The Note 4 screen also has a great level of viewing angles and we admit this is the best mobile display we ve ever tested \\r\\nUI  OS   Features\\r\\nThe Galaxy Note 4 is still running on Android Kitkat 4 4 operating system with a proprietary TouchWiz layer over it  Samsung has confirmed to release the Android 5 0 Lollipop upgrade by earlier next year but didn t mention any specific date \\r\\nSamsung has modified several features  which can actually make the bundled S Pen a nice utility \\r\\nSamsung has also added some more brilliant additions to Note 4 like Smart Select  S Pen Mouse feature or Multi Window feature  Honestly  while reviewing the earlier Note devices we never tried these features before  but with Note 4 we really got addicted to all of these  Yes  we use a lot of smartphones for reviewing reasons  still we started feeling addicted to the device after two months of use \\r\\nThe Note 4 also features a suite of health application named S Health  under which you will find all the necessary health related apps including step-counter  heart-rate monitor and stress monitor  For using these apps you need to access the sensor placed on the rear side under the primary camera \\r\\nBut the Touchwiz interface still feels slightly bloated and Samsung actually needs to improve a bit to make it sensible enough to the stock Android users  But the addition of several sensible features makes Note 4 a brilliant phablet device to use \\r\\nSecurity\\r\\nTo impress customers a phone should have a great level of security features and happily Samsung Galaxy Note 4 has it all  The device features Samsung s Knox  which allows users to protect their data and apps in an enterprise manner  Knox also adds several important features for certificate management  VPN   enhanced container security  Knox marketplace and Knox Enterprise Mobility Management  Fortunately  Galaxy Note 4 has it all \\r\\nPerformance\\r\\nSamsung Galaxy Note 4 features a Qualcomm Snapdragon 805 SoC running at 2 7GHz and is powered by 3GB of RAM and 32GB of in-built memory  There is no visible delay during multi-tasking  web browsing or even playing resource heavy 3D games \\r\\nCamera\\r\\nThe Note 4 features a 16mp sensor with Optical Image Stabilisation rear and a 3 7mp front camera  But the specifications are not everything  During the test we found the Note 4 rear camera is super impressive \\r\\nIn regular lights the images appear sharp with a decent level of colour gamuts and contrast  The camera focuses quickly and performs well in low-light environment  The 4K video recording works just fine with no snag with auto-focus abilities  The Note 4 camera also features an auto-burst mode  which generates multiple quick images by holding down the lower volume physical key or on-screen shutter button \\r\\nRemovable battery  MicroSD slot\\r\\nThe Galaxy Note 4 is powered by a 3 220mAh capacity battery  identical to Nexus 6 and can give a battery life of more than a day even under heavy usage level  We set the screen brightness level to automatic and iterated a 1 080p video and noticed the battery lasts a little more than nine hours \\r\\nThe battery is removable  so you can also buy another battery for hot swapping  Samsung also bundles a quick charger in the pack of Note 4  which charges the battery from 0-50  in just 30 minutes  Using while charging will take a little more time  but it s impressive \\r\\nAnother good thing about Samsung Galaxy Note 4 is the presence of MicroSD card slot  which can boost the phone memory  If you draw a comparison with other current flagship phones  the Google Nexus 6 and iPhone 6  6 Plus omits the card slot \\r\\nConclusion\\r\\nAll in all  the Samsung Galaxy Note 4 is a great smartphone with a great built  The utilities  snappy performance  outstanding camera and the above average battery with hot swapping ability make it a decent all-round phablet device  The Galaxy Note 4 might cost a little steeper on the side  but the overall performance with the additional features makes it one of the best smartphone till date \\r\\nPros \\r\\nCons '"
      ]
     },
     "execution_count": 45,
     "metadata": {},
     "output_type": "execute_result"
    }
   ],
   "source": [
    "d_articles[1474]"
   ]
  },
  {
   "cell_type": "code",
   "execution_count": 46,
   "metadata": {},
   "outputs": [
    {
     "data": {
      "text/plain": [
       "'Xiaomi s previous generation Redmi Note series had received a tremendous response in India as it came with top notch features  and there was hardly any competition to match it in the budget segment  Now  Xiaomi  in a bid to further get a grip on the budget phone segment  has introduced the well-crafted Redmi Note 3  which not only focuses on performance and battery life  but also on design language  photography and security \\r\\nWe have been using Redmi Note 3 for more than three weeks and it has impressed in almost all aforementioned aspects \\r\\n\\r\\n\\r\\nHere s our take on Redmi Note 3 \\r\\nDesign and build quality  4 5 5  \\r\\nMost of previous Xiaomi devices used to boast top-end internal hardware but were visually not so appealing  However  in 2016  Xiaomi has done a great job with the new phablet  The Redmi Note 3  in our opinion  is the best looking mid-range device out there in the Indian market \\r\\nThe new phablet features metal-based unibody design and is curvier compared to its predecessor  On the back  its smooth metal cover is of top-notch quality and thanks to sand-blasted matte finish  its gives a good grip for the hand to hold on the phone and it also repels smudges caused by sweaty fingers \\r\\nThough there are two hard plastic strips -- one each on top and the bottom  to allow antennas receive uninterrupted signal   it s very hard to see the difference when looked from a distance  The company has put brushed-metal coating on them so that they in blend with metal-cover in the middle as the make them look real \\r\\nWhen the Redmi Note 3 is held in hand  it s really light to hold despite use of metal for the outer shell  It weighs just 164g \\r\\nThe Redmi Note 3 features fingerprint sensor on the back  It is placed below the camera module with dual LED flash for ease of access  Further down  a four-grille load speaker is placed \\r\\nOn the right side  volume rockers and power buttons are placed one above the other  whereas the dual-SIM slot has been incorporated on the left side \\r\\nAt the top  we find a mic  a 3 5mm audio jack and an IR sensor  to control TVs  and at the bottom  we find micro USB to left side with another mic beside it \\r\\nDisplay  4 5 5  \\r\\nAs far as display is concerned  its a treat to use Redmi Note 3 in both bright day light conditions and in dark environment as well  thanks to Sunlight display technology and Night Display mode \\r\\nFor those unaware  using the Sunlight Display technology  the device intuitively adjusts brightness when it is being moved from well-lit closed environment to outdoors \\r\\nWhen Night Display mode is activated  the device controls Blue light emissions to prevent eye strain  while reading messages or browsing internet on the phone during the night \\r\\nPerformance  4 5 5  \\r\\nXiaomi s new phablet houses Qualcomm Snapdragon 650  ARM Cortex A72 dual-core   ARM Cortex A53 quad-core  series hexa-core SoC  System-on-Chip  with Adreno 510 graphics engine  making it the most powerful device in its class  The lower-end Redmi Note 3  with 2GB RAM  scores an impressive 1499 and 3490 points in single-core and multi-core tests on Geekbench 3 \\r\\nOn 3D Mark benchmarking app  it again fared well with top-notch score of 825 points \\r\\nIn AnTuTu  it scores a whopping 46 724 points  whereas the 3GB RAM model score goes north of 77 000 points range  comfortably beating the Snapdragon 810-powered OnePlus 2  Google Nexus 6P and few other flagship phones \\r\\nThe phone is really quick while switching between multiple applications and there is hardly any lag when playing power-intensive games such as Asphalt 8 and others  We did feel the phone getting heated during extended gaming session  but this is not a big deal considering most phones do get hot when played for long \\r\\nInterface  4 5  \\r\\nThe Redmi Note 3 comes with Android 5 1 1 Lollipop based MIUI v7 0 series interface  Though it is one generation old OS  people won t miss Marshmallow features like Doze  as the phone has its own power saving features and resource optimising software conserves RAM usage and distribute power based on priority among apps  depends on type of permission  \\r\\nJust a few days back  our review unit received 240MB plus update  It brought new feature  wherein user can take photo by tapping fingerprint sensor  It also brought lots of bug fixes  which were reported by users on the company s  Report Bug  application  which comes pre-loaded with every Xiaomi device \\r\\nReport Bug is one of the hallmark initiatives of Xiaomi  which make their devices so desirable \\r\\nCamera  4 5 5  \\r\\nXiaomi Redmi Note 3 boasts a 16MP camera with PDAF  Phase Detection Autofocus  function  dual-tone LED flash  HDR  face smile detection  dual-ISP  Image Signal Processor  \\r\\nDuring our tests  it performed well under bright light conditions  The phone s camera produced really good quality pictures during the day  but the device could not repeat the same feat in a closed environment \\r\\nAs far as front 5MP camera is concerned  it produced fine quality selfies  You can see the Redmi Note 3 s pictures below \\r\\nBattery  4 5 5  \\r\\nOne of the key attributes of the Redmi Note 3 is its battery  It houses a high-capacity 4050mAh battery \\r\\nDuring our testing  fully charged Redmi Note 3 lasted one and half days under mixed usage  which involved taking calls  occasional browsing of internet  few minutes of video playback and watching videos on YouTube for about half an hour \\r\\nIf left idle  the phone was able to stay awake for more than a week \\r\\nIt also boasts 5V 2A  Quick Charge  technology  where in the device gets charged to 50 percent within 30 minutes \\r\\nHonorable mention \\r\\nBesides a high-capacity battery and great design  fingerprint sensor is most notable feature of the Redmi Note 3  It takes a fraction of a second to take to fingerprint input and unlock the screen  Even the False Rejection Rate  FRR  is very low compared to other devices in the sub-Rs 12 000 price-range  Except when the finger is sweaty  biometric sensor was accurate all the time during our testing \\r\\nVerdict  4 4 5  \\r\\nWe used Redmi Note 3 for more than three weeks and tried to conduct every possible test to simulate normal day-to-day use and also went a step further to push the device to extreme use by playing high intense games  binge watching high resolution videos on YouTube  camera testing both in day light and night conditions  We are mighty impressed with the Xiaomi phablet  It fared well in almost all departments \\r\\nPros \\r\\nCons \\r\\nKey specifications of Redmi Note 3 '"
      ]
     },
     "execution_count": 46,
     "metadata": {},
     "output_type": "execute_result"
    }
   ],
   "source": [
    "d_articles[898]"
   ]
  },
  {
   "cell_type": "markdown",
   "metadata": {},
   "source": [
    "# CONCLUSION:\n",
    "## So, we can see that our recommender bot is doing a great job here.\n",
    "## If you have any suggestions or doubts, please do tell.\n"
   ]
  },
  {
   "cell_type": "markdown",
   "metadata": {},
   "source": [
    "# Thanks"
   ]
  },
  {
   "cell_type": "code",
   "execution_count": null,
   "metadata": {},
   "outputs": [],
   "source": []
  },
  {
   "cell_type": "code",
   "execution_count": null,
   "metadata": {},
   "outputs": [],
   "source": []
  }
 ],
 "metadata": {
  "kernelspec": {
   "display_name": "Python 3",
   "language": "python",
   "name": "python3"
  },
  "language_info": {
   "codemirror_mode": {
    "name": "ipython",
    "version": 3
   },
   "file_extension": ".py",
   "mimetype": "text/x-python",
   "name": "python",
   "nbconvert_exporter": "python",
   "pygments_lexer": "ipython3",
   "version": "3.6.5"
  }
 },
 "nbformat": 4,
 "nbformat_minor": 2
}
